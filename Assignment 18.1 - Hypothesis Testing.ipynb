{
 "cells": [
  {
   "cell_type": "code",
   "execution_count": 1,
   "metadata": {},
   "outputs": [],
   "source": [
    "import math\n",
    "import scipy.stats as st"
   ]
  },
  {
   "cell_type": "code",
   "execution_count": 2,
   "metadata": {},
   "outputs": [],
   "source": [
    "n = 36\n",
    "sample_mean = 108\n",
    "pop_mean = 100\n",
    "pop_sd = 15"
   ]
  },
  {
   "cell_type": "code",
   "execution_count": 3,
   "metadata": {},
   "outputs": [],
   "source": [
    "null_hypo = 'the raw cornstarch had an effect'\n",
    "alt_hypo = 'the raw cornstarch had no effect'\n",
    "\n",
    "#Null hypothesis is: H0: μ=100\n",
    "#Alternate hypothesis: H1: μ≠100"
   ]
  },
  {
   "cell_type": "code",
   "execution_count": 4,
   "metadata": {},
   "outputs": [],
   "source": [
    "# Step 2: Significance level: We will use 0.05 (assumption) since the value is not given. As this is a two-tailed test, split the alpha into two\n",
    "SL =  0.05/2  "
   ]
  },
  {
   "cell_type": "code",
   "execution_count": 5,
   "metadata": {},
   "outputs": [
    {
     "name": "stdout",
     "output_type": "stream",
     "text": [
      "1.959963984540054\n"
     ]
    }
   ],
   "source": [
    "# Step 3: Find the z-score associated with significance level. We are looking for the area in one tail only. A z-score for \n",
    "x = st.norm.ppf(1-SL)       ##As this is a two-tailed test, we would also consider the left tail (z=1.96)\n",
    "print(x)"
   ]
  },
  {
   "cell_type": "code",
   "execution_count": 6,
   "metadata": {},
   "outputs": [
    {
     "name": "stdout",
     "output_type": "stream",
     "text": [
      "3.2\n"
     ]
    }
   ],
   "source": [
    "# Step 4: Find the z-score or the test statistic\n",
    "Z = (sample_mean - pop_mean) / (pop_sd / math.sqrt(n)) \n",
    "print(Z)"
   ]
  },
  {
   "cell_type": "code",
   "execution_count": 8,
   "metadata": {},
   "outputs": [
    {
     "name": "stdout",
     "output_type": "stream",
     "text": [
      "reject the null hypothesis: the raw cornstarch had an effect\n",
      "Result of hypothesis test: the raw cornstarch had no effect\n"
     ]
    }
   ],
   "source": [
    "#Step 5: If Step 4 is greater than (Step 3), we will reject the null hypothesis. As this is a two-tailed test, we would also consider the left tail (z=1.96)\n",
    "\n",
    "if Z > x:\n",
    "    print('reject the null hypothesis:', null_hypo )\n",
    "    print('Result of hypothesis test:', alt_hypo)\n",
    "    \n",
    "elif Z < -x:                        \n",
    "    print('reject the null hypothesis:', null_hypo )\n",
    "    print('Result of hypothesis test:', alt_hypo)\n",
    "    \n",
    " \n",
    "else:\n",
    "    print('Null hypothesis is correct', null_hypo )\n"
   ]
  },
  {
   "cell_type": "code",
   "execution_count": null,
   "metadata": {},
   "outputs": [],
   "source": []
  }
 ],
 "metadata": {
  "kernelspec": {
   "display_name": "Python 3",
   "language": "python",
   "name": "python3"
  },
  "language_info": {
   "codemirror_mode": {
    "name": "ipython",
    "version": 3
   },
   "file_extension": ".py",
   "mimetype": "text/x-python",
   "name": "python",
   "nbconvert_exporter": "python",
   "pygments_lexer": "ipython3",
   "version": "3.6.4"
  }
 },
 "nbformat": 4,
 "nbformat_minor": 2
}
